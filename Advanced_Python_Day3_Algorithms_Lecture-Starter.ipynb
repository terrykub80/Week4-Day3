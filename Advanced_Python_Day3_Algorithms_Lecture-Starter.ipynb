{
 "cells": [
  {
   "cell_type": "markdown",
   "metadata": {},
   "source": [
    "# Classic Algorithms"
   ]
  },
  {
   "cell_type": "markdown",
   "metadata": {},
   "source": [
    "## Tasks Today:\n",
    " \n",
    "1) <b>In-Place Algorithms</b> <br>\n",
    " &nbsp;&nbsp;&nbsp;&nbsp; a) Syntax <br>\n",
    " &nbsp;&nbsp;&nbsp;&nbsp; a) Out of Place Algorithm <br>\n",
    " &nbsp;&nbsp;&nbsp;&nbsp; b) In-Class Exercise #1 <br>\n",
    "2) <b>Two Pointers</b> <br>\n",
    "3) <b>Sorting Algorithms</b> <br>\n",
    "4) <b>Merge Sort</b> <br>\n",
    " &nbsp;&nbsp;&nbsp;&nbsp; a) Video on Algorithms <br>\n",
    " &nbsp;&nbsp;&nbsp;&nbsp; b) How it Works <br>\n",
    "5) <b>Exercises</b> <br>\n",
    " &nbsp;&nbsp;&nbsp;&nbsp; a) Exercise #1 - Reverse a List in Place Using an In-Place Algorithm <br>\n",
    " &nbsp;&nbsp;&nbsp;&nbsp; b) Exercise #2 - Find Distinct Words <br>\n",
    " &nbsp;&nbsp;&nbsp;&nbsp; c) Exercise #3 - Write a program to implement a Linear Search Algorithm. <br>"
   ]
  },
  {
   "cell_type": "code",
   "execution_count": 1,
   "metadata": {},
   "outputs": [
    {
     "name": "stdout",
     "output_type": "stream",
     "text": [
      "0\n",
      "0\n"
     ]
    }
   ],
   "source": [
    "# Constant time -> O(1) -> No matter how much data, takes the same time\n",
    "\n",
    "def find_first_index(a_list):\n",
    "    return a_list[0]\n",
    "\n",
    "list1 = [i for i in range(10)]\n",
    "list2 = [i for i in range(100)]\n",
    "\n",
    "print(find_first_index(list1))\n",
    "print(find_first_index(list2))"
   ]
  },
  {
   "cell_type": "code",
   "execution_count": 7,
   "metadata": {},
   "outputs": [
    {
     "name": "stdout",
     "output_type": "stream",
     "text": [
      "0\n",
      "1\n",
      "2\n",
      "3\n",
      "4\n"
     ]
    },
    {
     "data": {
      "text/plain": [
       "5"
      ]
     },
     "execution_count": 7,
     "metadata": {},
     "output_type": "execute_result"
    }
   ],
   "source": [
    "# Linear -> O(n) -> Time depends on amount of data\n",
    "\n",
    "def count_operations(n):\n",
    "    num_operations = 0\n",
    "    for i in range(n):\n",
    "        print(i)\n",
    "        num_operations += 1\n",
    "    return num_operations\n",
    "\n",
    "count_operations(5)"
   ]
  },
  {
   "cell_type": "code",
   "execution_count": 12,
   "metadata": {
    "scrolled": true
   },
   "outputs": [
    {
     "name": "stdout",
     "output_type": "stream",
     "text": [
      "0 0\n",
      "0 1\n",
      "0 2\n",
      "0 3\n",
      "0 4\n",
      "1 0\n",
      "1 1\n",
      "1 2\n",
      "1 3\n",
      "1 4\n",
      "2 0\n",
      "2 1\n",
      "2 2\n",
      "2 3\n",
      "2 4\n",
      "3 0\n",
      "3 1\n",
      "3 2\n",
      "3 3\n",
      "3 4\n",
      "4 0\n",
      "4 1\n",
      "4 2\n",
      "4 3\n",
      "4 4\n"
     ]
    },
    {
     "data": {
      "text/plain": [
       "25"
      ]
     },
     "execution_count": 12,
     "metadata": {},
     "output_type": "execute_result"
    }
   ],
   "source": [
    "# Quadratic Time -> O(n squared) -> Happens when you start nesting\n",
    "\n",
    "def counting_operations(n):\n",
    "    num_operations = 0\n",
    "    for i in range(n):\n",
    "        for j in range(n):\n",
    "            print(i, j)\n",
    "            num_operations += 1\n",
    "    return num_operations\n",
    "\n",
    "counting_operations(5)"
   ]
  },
  {
   "cell_type": "code",
   "execution_count": null,
   "metadata": {},
   "outputs": [],
   "source": [
    "# Logarithmic Time -> O(log n) -> Similar to looking in dictionary, can open to middle of book and \n",
    "# know if your word is before or after, makes searching quicker - as data increases you can cut out half in one operation - \n",
    "# Time barely increases as large amounts of data are added\n",
    "\n"
   ]
  },
  {
   "cell_type": "code",
   "execution_count": null,
   "metadata": {},
   "outputs": [],
   "source": []
  },
  {
   "cell_type": "code",
   "execution_count": 14,
   "metadata": {},
   "outputs": [
    {
     "name": "stdout",
     "output_type": "stream",
     "text": [
      "2204945849152\n",
      "[1, 2, 3, 3, 3, 3, 4, 5, 6, 7, 7, 8]\n",
      "2204945849152\n"
     ]
    }
   ],
   "source": [
    "my_list = [3, 5, 7, 8, 1, 2, 3, 4, 7, 3, 3, 6]\n",
    "\n",
    "print(id(my_list))\n",
    "\n",
    "def sort_my_list_in_place(a_list): # Constant space O(1) - In Place Algorithm\n",
    "    a_list.sort()\n",
    "    return a_list\n",
    "\n",
    "def sort_my_list_out_of_place(a_list): # Linear Space O(n) - Out of Place Algorithm\n",
    "    return sorted(a_list)\n",
    "\n",
    "sort_my_list_in_place(my_list)\n",
    "print(my_list)\n",
    "print(id(my_list))"
   ]
  },
  {
   "cell_type": "code",
   "execution_count": 15,
   "metadata": {},
   "outputs": [
    {
     "name": "stdout",
     "output_type": "stream",
     "text": [
      "[1, 2, 3, 3, 3, 3, 4, 5, 6, 7, 7, 8]\n",
      "2204945649088\n"
     ]
    }
   ],
   "source": [
    "my_sorted_list = sort_my_list_out_of_place(my_list)\n",
    "print(my_sorted_list)\n",
    "print(id(my_sorted_list))"
   ]
  },
  {
   "cell_type": "code",
   "execution_count": null,
   "metadata": {},
   "outputs": [],
   "source": []
  },
  {
   "cell_type": "markdown",
   "metadata": {},
   "source": [
    "## In-Place Algorithms"
   ]
  },
  {
   "cell_type": "markdown",
   "metadata": {},
   "source": [
    "#### Syntax"
   ]
  },
  {
   "cell_type": "code",
   "execution_count": 21,
   "metadata": {},
   "outputs": [
    {
     "name": "stdout",
     "output_type": "stream",
     "text": [
      "Before swap: [1, 2, 3, 4, 5]\n",
      "After swap: [5, 2, 3, 4, 1]\n"
     ]
    }
   ],
   "source": [
    "list1 = [1,2,3,4,5]\n",
    "\n",
    "def swap(a_list, index_a, index_b):\n",
    "    temp = a_list[index_a]\n",
    "    a_list[index_a] = a_list[index_b]\n",
    "    a_list[index_b] = temp\n",
    "    \n",
    "print(\"Before swap:\", list1)\n",
    "swap(list1, 0,4)\n",
    "print(\"After swap:\", list1)\n"
   ]
  },
  {
   "cell_type": "code",
   "execution_count": null,
   "metadata": {},
   "outputs": [],
   "source": []
  },
  {
   "cell_type": "code",
   "execution_count": 25,
   "metadata": {},
   "outputs": [
    {
     "name": "stdout",
     "output_type": "stream",
     "text": [
      "a 1\n",
      "b 2\n",
      "c 3\n"
     ]
    }
   ],
   "source": [
    "# a_list[a], a_list[b] = a_list[b], a_list[a]\n",
    "\n",
    "a, b, c = 1, 2, 3\n",
    "\n",
    "print(\"a\", a)\n",
    "print(\"b\", b)\n",
    "print(\"c\", c)"
   ]
  },
  {
   "cell_type": "code",
   "execution_count": 27,
   "metadata": {},
   "outputs": [
    {
     "name": "stdout",
     "output_type": "stream",
     "text": [
      "Before swap: [1, 2, 3, 4, 5]\n",
      "After swap: [5, 2, 3, 4, 1]\n"
     ]
    }
   ],
   "source": [
    "list2 = [1,2,3,4,5]\n",
    "\n",
    "def swap2(a_list, index_a, index_b):  # Constant Space O(1) -> In Place Algorithm\n",
    "    a_list[index_a], a_list[index_b] = a_list[index_b], a_list[index_a]\n",
    "\n",
    "    \n",
    "print(\"Before swap:\", list2)\n",
    "swap(list2, 0,4)\n",
    "print(\"After swap:\", list2)"
   ]
  },
  {
   "cell_type": "markdown",
   "metadata": {},
   "source": [
    "#### Out of Place Algorithm"
   ]
  },
  {
   "cell_type": "code",
   "execution_count": 31,
   "metadata": {},
   "outputs": [
    {
     "name": "stdout",
     "output_type": "stream",
     "text": [
      "Before swap: ['blue', 'orange', 'red', 'green', 'yellow', 'purple', 'pink', 'white', 'black', 'brown']\n",
      "After swap: ['blue', 'orange', 'red', 'green', 'yellow', 'purple', 'pink', 'white', 'black', 'brown']\n",
      "New List: ['blue', 'yellow', 'red', 'green', 'orange', 'purple', 'pink', 'white', 'black', 'brown']\n"
     ]
    }
   ],
   "source": [
    "def out_of_place_swap(original_list, index1, index2):\n",
    "    # Create a copy of original list\n",
    "    new_list = original_list[:]\n",
    "    # Set the value at index1 of new list to the value of index2 original list\n",
    "    new_list[index1] = original_list[index2]\n",
    "    # Set the value at index2 of new list to the value of index1 original list\n",
    "    new_list[index2] = original_list[index1]\n",
    "    return new_list\n",
    "\n",
    "list3 = ['blue', 'orange', 'red', 'green', 'yellow', 'purple', 'pink', 'white', 'black', 'brown']\n",
    "\n",
    "print(\"Before swap:\", list3)\n",
    "new_list = out_of_place_swap(list3, 1, 4)\n",
    "print(\"After swap:\", list3)\n",
    "print('New List:', new_list)"
   ]
  },
  {
   "cell_type": "code",
   "execution_count": null,
   "metadata": {},
   "outputs": [],
   "source": []
  },
  {
   "cell_type": "code",
   "execution_count": null,
   "metadata": {},
   "outputs": [],
   "source": []
  },
  {
   "cell_type": "markdown",
   "metadata": {},
   "source": [
    "#### In-Class Exercise #1 <br>\n",
    "<p>Write a function that takes in four arguments (a_list, index1, index2, index3), and swaps those three positions in the list passed in.</p>"
   ]
  },
  {
   "cell_type": "code",
   "execution_count": 42,
   "metadata": {},
   "outputs": [
    {
     "data": {
      "text/plain": [
       "['hello', 'Terry', 'is', 'my', 'name']"
      ]
     },
     "execution_count": 42,
     "metadata": {},
     "output_type": "execute_result"
    }
   ],
   "source": [
    "def swap_three(a_list, a, b, c, d):\n",
    "    a_list[a], a_list[b], a_list[c], a_list[d] = a_list[d], a_list[c], a_list[a], a_list[b]\n",
    "    return a_list\n",
    "\n",
    "this_list = ['hello', 'my', 'name', 'is', 'Terry']\n",
    "swap_three(this_list, 1, 2, 3, 4)\n",
    "    "
   ]
  },
  {
   "cell_type": "markdown",
   "metadata": {},
   "source": [
    "## Two Pointers"
   ]
  },
  {
   "cell_type": "markdown",
   "metadata": {},
   "source": [
    "#### Syntax"
   ]
  },
  {
   "cell_type": "code",
   "execution_count": 59,
   "metadata": {},
   "outputs": [
    {
     "name": "stdout",
     "output_type": "stream",
     "text": [
      "[80, 70, 60, 50, 40, 30, 20, 10]\n"
     ]
    }
   ],
   "source": [
    "def reverse_in_place(a_list):\n",
    "    # Create two variable to point to the index we want to swap\n",
    "    left = 0                        # First element in a list\n",
    "    right = len(a_list) - 1          # Last element in the list\n",
    "    while left < right:\n",
    "        # Swap those 2 positions\n",
    "        a_list[left], a_list[right] = a_list[right], a_list[left]\n",
    "        left += 1\n",
    "        right -= 1\n",
    "    \n",
    "\n",
    "some_list = [10,20,30,40,50,60,70,80]\n",
    "\n",
    "reverse_in_place(some_list)\n",
    "\n",
    "print(some_list)"
   ]
  },
  {
   "cell_type": "code",
   "execution_count": null,
   "metadata": {},
   "outputs": [],
   "source": []
  },
  {
   "cell_type": "markdown",
   "metadata": {},
   "source": [
    "# Sorting Algorithms"
   ]
  },
  {
   "cell_type": "code",
   "execution_count": 2,
   "metadata": {},
   "outputs": [
    {
     "name": "stdout",
     "output_type": "stream",
     "text": [
      "[49, 98, 2, 73, 80, 89, 4, 10, 59, 33]\n"
     ]
    }
   ],
   "source": [
    "import random\n",
    "\n",
    "list_to_sort = [random.randint(1,100) for _ in range(10)]\n",
    "\n",
    "print(list_to_sort)"
   ]
  },
  {
   "cell_type": "markdown",
   "metadata": {},
   "source": [
    "#### Bubble Sort\n",
    "\n",
    "Worst Case: O(n^2) Time - O(1) Space"
   ]
  },
  {
   "cell_type": "code",
   "execution_count": 6,
   "metadata": {},
   "outputs": [
    {
     "data": {
      "text/plain": [
       "[2, 4, 10, 33, 49, 59, 73, 80, 89, 98]"
      ]
     },
     "execution_count": 6,
     "metadata": {},
     "output_type": "execute_result"
    }
   ],
   "source": [
    "def bubble_sort(lst):\n",
    "    # When we first start, assume the list is unsorted\n",
    "    is_sorted = False\n",
    "    # While list not sorted we'll loop through and bubble largest to the top\n",
    "    while not is_sorted:\n",
    "        # Begin for loop with the assumption that the list is sorted\n",
    "        is_sorted = True\n",
    "        # Loop from 0-index to the last index -1\n",
    "        for idx in range(len(lst) - 1):\n",
    "            # If the list at index idx is greater than the value to its right\n",
    "            if lst[idx] > lst[idx+1]:\n",
    "                # swap those values\n",
    "                lst[idx], lst[idx+1] = lst[idx+1], lst[idx]\n",
    "                # if we do have to swap at any point, means our list is not sorted\n",
    "                is_sorted = False\n",
    "    return lst\n",
    "\n",
    "list_to_sort = [49, 98, 2, 73, 80, 89, 4, 10, 59, 33]\n",
    "bubble_sort(list_to_sort)"
   ]
  },
  {
   "cell_type": "markdown",
   "metadata": {},
   "source": [
    "##### Insertion Sort\n",
    "\n",
    "Worst Case: O(n^2) time - O(1)space"
   ]
  },
  {
   "cell_type": "code",
   "execution_count": 14,
   "metadata": {},
   "outputs": [
    {
     "data": {
      "text/plain": [
       "[7, 11, 19, 19, 20, 27, 31, 31, 44, 49]"
      ]
     },
     "execution_count": 14,
     "metadata": {},
     "output_type": "execute_result"
    }
   ],
   "source": [
    "list_to_sort = [11, 19, 27, 7, 31, 31, 44, 49, 19, 20]\n",
    "\n",
    "\n",
    "def insertion_sort(lst):\n",
    "    # Loop over unordered section (start at 1 because 0-index is \"sorted\")\n",
    "    for i in range(1, len(lst)):\n",
    "        # While we're not at the front of the list and the element to the left is less than our element\n",
    "        while i > 0 and lst[i] < lst[i-1]:\n",
    "            # swap our element with the element to its right\n",
    "            lst[i], lst[i-1] = lst[i-1], lst [i]\n",
    "            # move our pointer\n",
    "            i -= 1\n",
    "    return lst\n",
    "\n",
    "insertion_sort(list_to_sort)\n"
   ]
  },
  {
   "cell_type": "code",
   "execution_count": 12,
   "metadata": {},
   "outputs": [
    {
     "name": "stdout",
     "output_type": "stream",
     "text": [
      "[11, 19, 27, 7, 31, 31, 44, 49, 19, 20]\n"
     ]
    }
   ],
   "source": [
    "import random\n",
    "list_to_sort = [random.randint(1,50) for _ in range(10)]\n",
    "print(list_to_sort)\n",
    "\n"
   ]
  },
  {
   "cell_type": "markdown",
   "metadata": {},
   "source": [
    "## Merge Sort"
   ]
  },
  {
   "cell_type": "markdown",
   "metadata": {},
   "source": [
    "#### How it Works"
   ]
  },
  {
   "cell_type": "code",
   "execution_count": 16,
   "metadata": {},
   "outputs": [
    {
     "name": "stdout",
     "output_type": "stream",
     "text": [
      "[63, 61, 27, 15, 7, 30, 11, 19]\n"
     ]
    }
   ],
   "source": [
    "import random\n",
    "list_to_sort = [random.randint(1,75) for _ in range(8)]\n",
    "print(list_to_sort)"
   ]
  },
  {
   "cell_type": "code",
   "execution_count": 21,
   "metadata": {},
   "outputs": [
    {
     "name": "stdout",
     "output_type": "stream",
     "text": [
      "splitting.... [63, 61, 27, 15, 7, 30, 11, 19]\n",
      "splitting.... [63, 61, 27, 15]\n",
      "splitting.... [63, 61]\n",
      "Merged..... [63]\n",
      "Merged..... [61]\n",
      "Merged..... [61, 63]\n",
      "splitting.... [27, 15]\n",
      "Merged..... [27]\n",
      "Merged..... [15]\n",
      "Merged..... [15, 27]\n",
      "Merged..... [15, 27, 61, 63]\n",
      "splitting.... [7, 30, 11, 19]\n",
      "splitting.... [7, 30]\n",
      "Merged..... [7]\n",
      "Merged..... [30]\n",
      "Merged..... [7, 30]\n",
      "splitting.... [11, 19]\n",
      "Merged..... [11]\n",
      "Merged..... [19]\n",
      "Merged..... [11, 19]\n",
      "Merged..... [7, 11, 19, 30]\n",
      "Merged..... [7, 11, 15, 19, 27, 30, 61, 63]\n"
     ]
    },
    {
     "data": {
      "text/plain": [
       "[7, 11, 15, 19, 27, 30, 61, 63]"
      ]
     },
     "execution_count": 21,
     "metadata": {},
     "output_type": "execute_result"
    }
   ],
   "source": [
    "new_list_to_sort = [63, 61, 27, 15, 7, 30, 11, 19]\n",
    "\n",
    "def merge_sort(a_list):\n",
    "    # Check to see if the list has more than 1 element\n",
    "    if len(a_list) > 1:\n",
    "        # Find the midway point\n",
    "        mid = len(a_list) // 2\n",
    "        print('splitting....', a_list)\n",
    "        left_half = a_list[:mid]\n",
    "        right_half = a_list[mid:]\n",
    "        \n",
    "        # Recursively call merge sort on left half\n",
    "        merge_sort(left_half)\n",
    "        merge_sort(right_half)\n",
    "        \n",
    "        # Merge left half with right half\n",
    "        \n",
    "        # index pointer for list\n",
    "        l = 0        # pointer for left half\n",
    "        r = 0        # pointer for right half     \n",
    "        m = 0        # pointer for main list\n",
    "        \n",
    "        # While still elements in both left and right\n",
    "        while l < len(left_half) and r < len(right_half):\n",
    "            # If lowest value in left is less than lowest in right\n",
    "            if left_half [l] < right_half[r]:\n",
    "                # Add value at left to main list\n",
    "                a_list[m] = left_half[l]\n",
    "                # move left pointer right one element\n",
    "                l += 1\n",
    "            # If lowest value in right is less than or equal to lowest in left \n",
    "            else:\n",
    "                # Add right value to main list\n",
    "                a_list[m] = right_half[r]\n",
    "                r += 1\n",
    "            # Either way, always move the main pointer over 1\n",
    "            m += 1\n",
    "        # if right half is exhausted first\n",
    "        while l < len(left_half):\n",
    "            # fill the rest of main with left half\n",
    "            a_list[m] = left_half[l]\n",
    "            l += 1\n",
    "            m += 1\n",
    "        # If left half is exhausted first, fill main with rest of right half\n",
    "        while r < len(right_half):\n",
    "            a_list[m] = right_half[r]\n",
    "            r += 1\n",
    "            m += 1\n",
    "            \n",
    "    print(\"Merged.....\", a_list)\n",
    "    return a_list\n",
    "            \n",
    "\n",
    "merge_sort(new_list_to_sort)\n"
   ]
  },
  {
   "cell_type": "markdown",
   "metadata": {},
   "source": [
    "# Binary Search\n",
    "\n",
    "The Binary Search algorithm works by finding the number in the middle of a given array and comparing it to the target. **Given that the array is sorted**\n",
    "\n",
    "* The worst case run time for this algorithm is `O(log(n))`"
   ]
  },
  {
   "cell_type": "code",
   "execution_count": 47,
   "metadata": {},
   "outputs": [
    {
     "data": {
      "text/plain": [
       "'The index for 15 is 2'"
      ]
     },
     "execution_count": 47,
     "metadata": {},
     "output_type": "execute_result"
    }
   ],
   "source": [
    "# Less == Left\n",
    "# Greater == Right\n",
    "# List of numbers MUST be sorted\n",
    "\n",
    "def binary_search(lst, target):\n",
    "    low = 0           # set lowest element\n",
    "    high = len(lst)  # set highest element\n",
    "    while low <= high:\n",
    "        # find mid between high and low\n",
    "        mid = (low + high) // 2\n",
    "        # if the midway point is equal to our target\n",
    "        if target == lst[mid]:\n",
    "            return f\"The index for {target} is {mid}\"\n",
    "        # if target less than midway\n",
    "        elif target < lst[mid]:\n",
    "            # set the high point to one less than our mid point\n",
    "            high = mid - 1\n",
    "        # if target is more than midway    \n",
    "        else:\n",
    "            # set low point to one greater than our mid point\n",
    "            low = mid + 1\n",
    "    \n",
    "    return -1\n",
    "\n",
    "binary_search([7, 11, 15, 19, 27, 30, 61, 63], 15)"
   ]
  },
  {
   "cell_type": "code",
   "execution_count": null,
   "metadata": {},
   "outputs": [],
   "source": []
  },
  {
   "cell_type": "markdown",
   "metadata": {},
   "source": [
    "# Exercises"
   ]
  },
  {
   "cell_type": "markdown",
   "metadata": {},
   "source": [
    "### Exercise #1 <br>\n",
    "<p>Reverse the list below in-place using an in-place algorithm.<br>For extra credit: Reverse the strings at the same time.</p>"
   ]
  },
  {
   "cell_type": "code",
   "execution_count": 75,
   "metadata": {},
   "outputs": [
    {
     "data": {
      "text/plain": [
       "['.', 'sentence', 'a', 'is', 'this']"
      ]
     },
     "execution_count": 75,
     "metadata": {},
     "output_type": "execute_result"
    }
   ],
   "source": [
    "words = ['this' , 'is', 'a', 'sentence', '.']\n",
    "\n",
    "def reverse_words(a_list):\n",
    "    a_list.reverse()\n",
    "    return a_list\n",
    "    \n",
    "    \n",
    "reverse_words(words)\n",
    "\n"
   ]
  },
  {
   "cell_type": "code",
   "execution_count": 74,
   "metadata": {},
   "outputs": [
    {
     "name": "stdout",
     "output_type": "stream",
     "text": [
      "['.', 'sentence', 'a', 'is', 'this']\n"
     ]
    }
   ],
   "source": [
    "print(words)"
   ]
  },
  {
   "cell_type": "code",
   "execution_count": 9,
   "metadata": {},
   "outputs": [
    {
     "data": {
      "text/plain": [
       "['.', 'sentence', 'a', 'is', 'this']"
      ]
     },
     "execution_count": 9,
     "metadata": {},
     "output_type": "execute_result"
    }
   ],
   "source": [
    "more_words = ['this' , 'is', 'a', 'sentence', '.']\n",
    "\n",
    "def get_reversed(a_list):\n",
    "    for i in range(len(a_list)):\n",
    "        a_list[0], a_list[1], a_list[3], a_list[4]  = a_list[4], a_list[3],  a_list[1], a_list[0]\n",
    "    return a_list\n",
    "\n",
    "get_reversed(more_words)"
   ]
  },
  {
   "cell_type": "code",
   "execution_count": 10,
   "metadata": {},
   "outputs": [
    {
     "name": "stdout",
     "output_type": "stream",
     "text": [
      "['.', 'sentence', 'a', 'is', 'this']\n"
     ]
    }
   ],
   "source": [
    "print(more_words)"
   ]
  },
  {
   "cell_type": "markdown",
   "metadata": {},
   "source": [
    "### Exercise #2 <br>\n",
    "<p>Create a function that counts how many distinct words are in the string below, then outputs a dictionary with the words as the key and the value as the amount of times that word appears in the string.</p>\n",
    "Example Output:<code>{'in': 1, 'computing': 1, 'a': 5, ...}</code>"
   ]
  },
  {
   "cell_type": "code",
   "execution_count": 14,
   "metadata": {
    "scrolled": true
   },
   "outputs": [
    {
     "data": {
      "text/plain": [
       "{'in': 1,\n",
       " 'computing,': 1,\n",
       " 'a': 5,\n",
       " 'hash': 4,\n",
       " 'table': 2,\n",
       " 'map': 2,\n",
       " 'is': 1,\n",
       " 'data': 2,\n",
       " 'structure': 2,\n",
       " 'which': 2,\n",
       " 'implements': 1,\n",
       " 'an': 3,\n",
       " 'associative': 1,\n",
       " 'array': 2,\n",
       " 'abstract': 1,\n",
       " 'type,': 1,\n",
       " 'that': 1,\n",
       " 'can': 2,\n",
       " 'keys': 1,\n",
       " 'to': 2,\n",
       " 'values.': 1,\n",
       " 'uses': 1,\n",
       " 'function': 1,\n",
       " 'compute': 1,\n",
       " 'index': 1,\n",
       " 'into': 1,\n",
       " 'of': 1,\n",
       " 'buckets': 1,\n",
       " 'or': 1,\n",
       " 'slots': 1,\n",
       " 'from': 1,\n",
       " 'the': 1,\n",
       " 'desired': 1,\n",
       " 'value': 1,\n",
       " 'be': 1,\n",
       " 'found': 1}"
      ]
     },
     "execution_count": 14,
     "metadata": {},
     "output_type": "execute_result"
    }
   ],
   "source": [
    "def word_count(string):\n",
    "    cache = {}\n",
    "    for word in string.lower().split():\n",
    "        if word not in cache:\n",
    "            cache[word] = 1\n",
    "        else:\n",
    "            cache[word] += 1\n",
    "    return cache\n",
    "\n",
    "word_count(a_text)"
   ]
  },
  {
   "cell_type": "code",
   "execution_count": 17,
   "metadata": {},
   "outputs": [
    {
     "data": {
      "text/plain": [
       "{'in': 1,\n",
       " 'computing': 1,\n",
       " 'a': 5,\n",
       " 'hash': 4,\n",
       " 'table': 2,\n",
       " 'map': 2,\n",
       " 'is': 1,\n",
       " 'data': 2,\n",
       " 'structure': 2,\n",
       " 'which': 2,\n",
       " 'implements': 1,\n",
       " 'an': 3,\n",
       " 'associative': 1,\n",
       " 'array': 2,\n",
       " 'abstract': 1,\n",
       " 'type': 1,\n",
       " 'that': 1,\n",
       " 'can': 2,\n",
       " 'keys': 1,\n",
       " 'to': 2,\n",
       " 'values.': 1,\n",
       " 'uses': 1,\n",
       " 'function': 1,\n",
       " 'compute': 1,\n",
       " 'index': 1,\n",
       " 'into': 1,\n",
       " 'of': 1,\n",
       " 'buckets': 1,\n",
       " 'or': 1,\n",
       " 'slots': 1,\n",
       " 'from': 1,\n",
       " 'the': 1,\n",
       " 'desired': 1,\n",
       " 'value': 1,\n",
       " 'be': 1,\n",
       " 'found': 1}"
      ]
     },
     "execution_count": 17,
     "metadata": {},
     "output_type": "execute_result"
    }
   ],
   "source": [
    "def count_words(string):\n",
    "    counter = {}\n",
    "    words = string.lower().split()\n",
    "    for word in words:\n",
    "        word = word.strip(',')\n",
    "        if word not in counter:\n",
    "            counter[word] = 1\n",
    "        else:\n",
    "            counter[word] += 1\n",
    "    return counter\n",
    "\n",
    "count_words(a_text)"
   ]
  },
  {
   "cell_type": "markdown",
   "metadata": {},
   "source": [
    "## Exercise #3\n",
    "\n",
    "Write a function implementing a Linear Search Algorithm. A linear search is a method for finding an element within a list. It sequentially checks each element of the list until a match is found or the whole list has been searched. If you do not find a match, return -1"
   ]
  },
  {
   "cell_type": "code",
   "execution_count": 19,
   "metadata": {},
   "outputs": [
    {
     "data": {
      "text/plain": [
       "'I found 70 at index 5!'"
      ]
     },
     "execution_count": 19,
     "metadata": {},
     "output_type": "execute_result"
    }
   ],
   "source": [
    "nums_list = [10,11,15,23,45,70]\n",
    "\n",
    "target = 70\n",
    "\n",
    "# If number is not present return -1\n",
    "\n",
    "def find_linear(lst, target):\n",
    "    for num in lst:\n",
    "        if num == target:\n",
    "            return f\"I found {target} at index {lst.index(target)}!\"\n",
    "    return -1\n",
    "    \n",
    "     \n",
    "\n",
    "\n",
    "find_linear(nums_list, 70)    "
   ]
  }
 ],
 "metadata": {
  "kernelspec": {
   "display_name": "Python 3 (ipykernel)",
   "language": "python",
   "name": "python3"
  },
  "language_info": {
   "codemirror_mode": {
    "name": "ipython",
    "version": 3
   },
   "file_extension": ".py",
   "mimetype": "text/x-python",
   "name": "python",
   "nbconvert_exporter": "python",
   "pygments_lexer": "ipython3",
   "version": "3.9.12"
  }
 },
 "nbformat": 4,
 "nbformat_minor": 2
}
